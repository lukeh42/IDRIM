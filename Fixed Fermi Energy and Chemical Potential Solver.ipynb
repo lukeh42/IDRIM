{
 "cells": [
  {
   "cell_type": "code",
   "execution_count": 1,
   "id": "b997bcaa",
   "metadata": {},
   "outputs": [],
   "source": [
    "import numpy as np\n",
    "import scipy as sp\n",
    "from scipy.special import expit\n",
    "from scipy.integrate import quad\n",
    "from scipy.constants import *\n",
    "\n",
    "from IDRIM.constants import *\n",
    "from IDRIM.relations import *\n",
    "\n",
    "import matplotlib.pyplot as plt"
   ]
  },
  {
   "cell_type": "code",
   "execution_count": 2,
   "id": "e4a13c01",
   "metadata": {},
   "outputs": [],
   "source": [
    "Frequency_array = np.linspace(150, 300, 1000)*1e12*2*pi\n",
    "PermJustus = Permittivity(Frequency_array, wp0)"
   ]
  },
  {
   "cell_type": "code",
   "execution_count": 3,
   "id": "40ab7e7b",
   "metadata": {},
   "outputs": [],
   "source": [
    "def Mu_Integrand(E, mu_T, T):\n",
    "    return FermiDirac(E, mu_T, T)*TCO_DOS(E)\n",
    "\n",
    "def Mu_Integrate(mu_T, T):\n",
    "    return quad(Mu_Integrand, 0, 100*e, args=(mu_T, T))[0]\n",
    "\n",
    "def Mu_Function(mu_T, T, N):\n",
    "    return Mu_Integrate(mu_T, T)-N"
   ]
  },
  {
   "cell_type": "code",
   "execution_count": 4,
   "id": "168ca61b",
   "metadata": {},
   "outputs": [],
   "source": [
    "def DOS_Integrand(E, m0):\n",
    "     return (1/(2*pi**2))*(2*m0/hbar**2)**1.5*(E+eta*E**2)**0.5*(1+2*eta*E)\n",
    "    \n",
    "def NumberDensityT0(m0, Ef):\n",
    "    return quad(DOS_Integrand, 0, Ef, args=(m0))[0]\n",
    "\n",
    "def WeightedMassCon(E):\n",
    "    return (((2*a**2)/(3*hbar**2*(E+a)))+(a**4)/(3*hbar**2*(E+a)**3))\n",
    "\n",
    "def IntegrandC1a(E, mu, T):\n",
    "    return ((E+eta*E**2)**0.5)*(1+2*eta*E)*FermiDirac(E, mu, T)*WeightedMassCon(E)\n",
    "\n",
    "def IntegrateC1a(mu, T):\n",
    "    return quad(IntegrandC1a, 0, 100*e, args=(mu, T))[0]\n",
    "\n",
    "def IntegrandC2(E, mu, T):\n",
    "    return ((E+eta*E**2)**0.5)*(1+2*eta*E)*FermiDirac(E, mu, T)\n",
    "\n",
    "def IntegrateC2(mu, T):\n",
    "    return quad(IntegrandC2, 0, 100*e, args=(mu, T))[0]\n",
    "\n",
    "def Mass(C1, C2):\n",
    "    return wp0**4 * ((epsilon_0**2 *pi**4)/(C1**2 * C2**2 * e**4 * eta**2 *hbar**4))*((hbar**2)/(2))**3"
   ]
  },
  {
   "cell_type": "code",
   "execution_count": 5,
   "id": "1828e681",
   "metadata": {},
   "outputs": [],
   "source": [
    "def EffMassWeightedLoc(E, b):\n",
    "    return (((2/3)*a**2/(hbar**2*b*(E+a))) + ((1/3)*(a**4)/(hbar**2*b*((E+a))**3)))**(-1)\n",
    "\n",
    "def AvgEffMassIntegrandLoc(E, mu_T, T, b):\n",
    "    return (1/N)*(TCO_DOS(E)*FermiDirac(E, mu_T, T))/(EffMassWeightedLoc(E, b))\n",
    "\n",
    "def AvgEffMassIntegrateLoc(mu_T, T, b):\n",
    "    return 1/(quad(AvgEffMassIntegrandLoc, 0, 100*e, args=(mu_T, T, b))[0])"
   ]
  },
  {
   "cell_type": "code",
   "execution_count": 16,
   "id": "3726134a",
   "metadata": {},
   "outputs": [
    {
     "name": "stdout",
     "output_type": "stream",
     "text": [
      "Minimum Effective Mass: 0.22069806462941993 m_e\n",
      "Number Density at 0 Kelvin: 7.959978255227007e+26\n",
      "Chemical Potential at 300K: [0.99878644] eV\n"
     ]
    },
    {
     "data": {
      "text/plain": [
       "<matplotlib.legend.Legend at 0x1fea834c790>"
      ]
     },
     "execution_count": 16,
     "metadata": {},
     "output_type": "execute_result"
    },
    {
     "data": {
      "image/png": "[encoded data removed]",
      "text/plain": [
       "<Figure size 432x288 with 1 Axes>"
      ]
     },
     "metadata": {
      "needs_background": "light"
     },
     "output_type": "display_data"
    }
   ],
   "source": [
    "FermiEnergy = 1*e\n",
    "\n",
    "C1 = (IntegrateC1a(FermiEnergy, 300))/(IntegrateC2(FermiEnergy, 300))\n",
    "C2 = IntegrateC2(FermiEnergy, 300)\n",
    "m0 = Mass(C1, C2)\n",
    "bloc =  (m0)/(2*eta*hbar**2)\n",
    "\n",
    "print(\"Minimum Effective Mass:\", m0/m_e, \"m_e\")\n",
    "Nlocal = NumberDensityT0(m0, FermiEnergy)\n",
    "print(\"Number Density at 0 Kelvin:\",Nlocal)\n",
    "mu300 = fsolve(Mu_Function, 0.5*e, args=(300, Nlocal))\n",
    "print(\"Chemical Potential at 300K:\", mu300/eV, \"eV\")\n",
    "\n",
    "m_avg = AvgEffMassIntegrateLoc(mu300, 300, bloc) #Calculate average effective mass.\n",
    "PlasmaFreq = np.sqrt((N*e**2)/(epsilon_0*m_avg))\n",
    "PermModel = Permittivity(Frequency_array, PlasmaFreq)\n",
    "   \n",
    "plt.plot(Frequency_array/(1e12*2*pi), PermJustus.real, label=\"Justus\")\n",
    "plt.plot(Frequency_array/(1e12*2*pi), PermModel.real, label=\"Model\")\n",
    "plt.axhline(0, color=\"black\", linestyle=\"dashed\", label=\"ENZ Line\")\n",
    "plt.axvline(212, color=\"black\", linestyle=\"dotted\", label=\"212THz\")\n",
    "plt.xlabel(\"Frequency (THz)\")\n",
    "plt.ylabel(\"Real(Permittivity)\")\n",
    "plt.title('Model Fermi Energy: %f eV' % (FermiEnergy/eV))\n",
    "plt.legend()"
   ]
  }
 ],
 "metadata": {
  "kernelspec": {
   "display_name": "Python 3",
   "language": "python",
   "name": "python3"
  },
  "language_info": {
   "codemirror_mode": {
    "name": "ipython",
    "version": 3
   },
   "file_extension": ".py",
   "mimetype": "text/x-python",
   "name": "python",
   "nbconvert_exporter": "python",
   "pygments_lexer": "ipython3",
   "version": "3.9.2"
  }
 },
 "nbformat": 4,
 "nbformat_minor": 5
}
