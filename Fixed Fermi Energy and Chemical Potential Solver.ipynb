{
 "cells": [
  {
   "cell_type": "code",
   "execution_count": 1,
   "id": "b997bcaa",
   "metadata": {},
   "outputs": [],
   "source": [
    "import numpy as np\n",
    "import scipy as sp\n",
    "from scipy.special import expit\n",
    "from scipy.integrate import quad\n",
    "from scipy.constants import *\n",
    "\n",
    "from IDRIM.constants import *\n",
    "from IDRIM.relations import *\n",
    "\n",
    "import matplotlib.pyplot as plt"
   ]
  },
  {
   "cell_type": "code",
   "execution_count": 2,
   "id": "7a12a736",
   "metadata": {},
   "outputs": [],
   "source": [
    "import IDRIM.sample as sam"
   ]
  },
  {
   "cell_type": "code",
   "execution_count": 3,
   "id": "087d8711",
   "metadata": {},
   "outputs": [
    {
     "ename": "NameError",
     "evalue": "name 'ENZFreqSolver' is not defined",
     "output_type": "error",
     "traceback": [
      "\u001b[1;31m---------------------------------------------------------------------------\u001b[0m",
      "\u001b[1;31mNameError\u001b[0m                                 Traceback (most recent call last)",
      "\u001b[1;32m<ipython-input-3-225b5fc0cecd>\u001b[0m in \u001b[0;36m<module>\u001b[1;34m\u001b[0m\n\u001b[1;32m----> 1\u001b[1;33m \u001b[0mENZFreqSolver\u001b[0m\u001b[1;33m(\u001b[0m\u001b[1;33m)\u001b[0m\u001b[1;33m\u001b[0m\u001b[1;33m\u001b[0m\u001b[0m\n\u001b[0m",
      "\u001b[1;31mNameError\u001b[0m: name 'ENZFreqSolver' is not defined"
     ]
    }
   ],
   "source": [
    "ENZFreqSolver()"
   ]
  },
  {
   "cell_type": "code",
   "execution_count": null,
   "id": "3efe59be",
   "metadata": {},
   "outputs": [],
   "source": [
    "sam.Solver(wp0)"
   ]
  }
 ],
 "metadata": {
  "kernelspec": {
   "display_name": "Python 3",
   "language": "python",
   "name": "python3"
  },
  "language_info": {
   "codemirror_mode": {
    "name": "ipython",
    "version": 3
   },
   "file_extension": ".py",
   "mimetype": "text/x-python",
   "name": "python",
   "nbconvert_exporter": "python",
   "pygments_lexer": "ipython3",
   "version": "3.9.2"
  }
 },
 "nbformat": 4,
 "nbformat_minor": 5
}
