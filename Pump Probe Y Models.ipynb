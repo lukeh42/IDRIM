{
 "cells": [
  {
   "cell_type": "markdown",
   "id": "ff240044",
   "metadata": {},
   "source": [
    "# Modelling Transmission Response of ITO [Pump Probe] (Y-Models)"
   ]
  },
  {
   "cell_type": "markdown",
   "id": "adb4062e",
   "metadata": {},
   "source": [
    "## 1. Introduction\n",
    "This file contains the different models being used to attempt to successfully model a correct Transmission Response of Indium Tin Oxide upon a Pump-Probe laser setup. To look at the known relationships and the background relations, consult the Relations notebook. \n",
    "\n",
    "Code is stored in separate python files and then loaded in. This is to tidy up the code as well as to reduce file size on this notebook. Note that laser parameters are not transferred between this and the relations file, so be careful on that.\n",
    "\n",
    "### File Input Warnings\n",
    "\n",
    "Experimental data must not be normalized prior to insertion into the notebook. This is because the notebook will find the maximum to normalize the model outputs. The experimental data will be normalized alongside the model outputs.\n",
    "\n",
    "Experimental data must be in the range (0, 1). This will require the open-scan transmission value. To reiterate, the experimental maximum should not be 1. That operation is performed in this notebook. The open-scan transmission value in arbitrary units should be unity.\n",
    "\n",
    "Experimental data file format is INTENSITY.WAVELENGTH.PULSE.ANGLE.THICKNESS.NAME.txt. This will be checked against model inputs, so make sure it is correct. Otherwise, [in this cell](#check), change function parameter CHECK=1 to CHECK=0 to skip checking these. The .NAME. is not required but will still work with the code."
   ]
  },
  {
   "cell_type": "markdown",
   "id": "7d0b8573",
   "metadata": {},
   "source": [
    "## 2. Module Import and Setup\n",
    "<a id='top'></a>"
   ]
  },
  {
   "cell_type": "code",
   "execution_count": 1,
   "id": "4f730fa9",
   "metadata": {},
   "outputs": [],
   "source": [
    "from IDRIM.constants import *\n",
    "from IDRIM.relations import *\n",
    "from IDRIM.graph import *\n",
    "from IDRIM.commons import *\n",
    "from IDRIM.checks import *\n",
    "from IDRIM.modcom import *\n",
    "from IDRIM.genesis import *\n",
    "from IDRIM.ymodcom import *\n",
    "from IDRIM.file import *\n",
    "import IDRIM.models.y1 as y\n",
    "from numpy import inf\n"
   ]
  },
  {
   "cell_type": "code",
   "execution_count": 2,
   "id": "e34d9dd7",
   "metadata": {},
   "outputs": [],
   "source": [
    "#M_GraphStaple()\n",
    "textsize = 18\n",
    "font = {'family': 'DejaVu Sans', 'weight': 'normal','size': textsize,}\n",
    "plt.rc('font', family='DejaVu Sans', serif='Times')\n",
    "plt.rc('text', usetex=False)\n",
    "plt.rc('xtick', labelsize=textsize)\n",
    "plt.rc('ytick', labelsize=textsize)\n",
    "plt.rc('axes', labelsize=textsize)\n",
    "plt.rc('lines', linewidth=2)\n",
    "width = 10\n",
    "height = width / 1.618\n",
    "plt.rcParams[\"figure.figsize\"] = (width, height)"
   ]
  },
  {
   "cell_type": "markdown",
   "id": "8cb1f7ee",
   "metadata": {},
   "source": [
    "# 3. Model Inputs\n",
    "\n",
    "Insert values as desired."
   ]
  },
  {
   "cell_type": "code",
   "execution_count": 3,
   "id": "14323b37",
   "metadata": {},
   "outputs": [],
   "source": [
    "EXPERIMENT_PATH = \"data/exp/200.1240.104.30.407.block2.txt\"\n",
    "#Format is INTENSITY.WAVELENGTH.PULSE.ANGLE.THICKNESS\n",
    "Parameters={'wavelength':1240*nm, 'pulse':104e-15, 'angle':30, 'thick':[inf, 407, 12750, inf], 'Res':100}\n",
    "#thickness parameters: 1st element (inf) must be there as transfer matrix method module requires it.\n",
    "#2nd element (407) is the sample thickness of ITO in nm\n",
    "#3rd element (?????) is substrate thickness after ITO sample in nm\n",
    "#4th element (inf) must also be there for TMM module.\n",
    "I = 110 #Gwcm2\n",
    "peak_point= -0.10*1e-12"
   ]
  },
  {
   "cell_type": "code",
   "execution_count": 4,
   "id": "664be74f",
   "metadata": {},
   "outputs": [],
   "source": [
    "i = IntensityArrayIndex(I, IntRes=Parameters['Res']) "
   ]
  },
  {
   "cell_type": "code",
   "execution_count": 5,
   "id": "38ae025f",
   "metadata": {},
   "outputs": [],
   "source": [
    "bEnableY0  = 0  # Simulate Model Y-0.\n",
    "bEnableY2  = 0  # Simulate Model Y-2. Electron Heat Capacity Change\n",
    "bEnableY3  = 0  # Simulate Model Y-3. Phonon Heat Capacity Change\n",
    "bEnableY5  = 0  # Simulate Model Y-5. Power Function is just wrong\n",
    "bEnableY7  = 0  # Simulate Model Y-7. Doesn't change anything. Which is good, what was expected\n",
    "bEnableY11 = 0 # Simulate Model Y-11. Phonon decay term (Tom's)\n",
    "bEnableY13 = 1 # Simulate Model Y-13. Temperature dependent Drude scattering coefficient.\n",
    "\n",
    "bEnableExperiment = 1 # Enable Experiment data plotting"
   ]
  },
  {
   "cell_type": "markdown",
   "id": "647f8ad8",
   "metadata": {},
   "source": [
    "Model Input Feedback\n",
    "<a id='check'></a>"
   ]
  },
  {
   "cell_type": "code",
   "execution_count": 6,
   "id": "3812e86d",
   "metadata": {
    "scrolled": true
   },
   "outputs": [
    {
     "name": "stdout",
     "output_type": "stream",
     "text": [
      "Experimental Intensity: 200 Gw/cm²\n",
      "Model Intensity: 110 Gw/cm² \n",
      "\n",
      "Experimental Wavelength: 1240 nm\n",
      "Model Wavelength: 1240 nm\n",
      "\n",
      "Experimental Pulse: 104 fs\n",
      "Model Pulse: 104.0 fs\n",
      "\n",
      "Experimental Angle: 30 degrees\n",
      "Model Angle: 30 degrees\n",
      "\n",
      "Experimental Sample Thickness: 407 nm\n",
      "Model Sample Thickness: 407 nm\n",
      "\n",
      "Experimental parameters and model input have not been checked. Please perform this manually.\n"
     ]
    }
   ],
   "source": [
    "if bEnableExperiment == 1:\n",
    "    ExperimentParamPrinter(EXPERIMENT_PATH, I, Parameters, CHECK=0)"
   ]
  },
  {
   "cell_type": "code",
   "execution_count": 7,
   "id": "796548fc",
   "metadata": {},
   "outputs": [
    {
     "name": "stdout",
     "output_type": "stream",
     "text": [
      "No change in parameters detected.\n",
      "Not solving for Chemical Potential. Loading from previously saved data.\n",
      "Mu Loaded.\n",
      "Not solving Phonon Heat Capacity. Loading from saved file.\n",
      "Phonon Heat Capacity loaded.\n",
      "Not solving Electron Heat Capacity. Loading from saved file.\n",
      "Electron Heat Capacity loaded.\n",
      "Loading Plasma Frequency from saved file.\n",
      "Loaded Plasma Frequency.\n",
      "Loading Refractive Index from saved file.\n",
      "Loaded Refractive Index\n",
      "\n",
      "\n",
      "REGENERATION COMPLETE.\n",
      "Fit Parameter is 0.12024175033800726\n"
     ]
    }
   ],
   "source": [
    "mu_array, Cp_array, Ce_array, wp_array, RI_array, Fit = Regeneration(Parameters, OVERRIDE=0)\n",
    "Relations_dict = {'mu':mu_array, 'Cp':Cp_array, 'wp':wp_array, 'Ce':Ce_array, 'RI':RI_array, 'Fit':Fit}\n",
    "print(\"Fit Parameter is\",Fit)"
   ]
  },
  {
   "cell_type": "code",
   "execution_count": 8,
   "id": "86cffdd8",
   "metadata": {},
   "outputs": [],
   "source": [
    "Y = {} #Set to 0 or 1. Multiple can be used at once.\n",
    "Y.update({'Y2': 0}) #Electron Heat Capacity modification\n",
    "Y.update({'Y3': 0}) #Phonon Heat Capacity modification\n",
    "Y.update({'Y5': 0}) #Power function modification\n",
    "Y.update({'Y7': 0}) #Phonon relaxation modification\n",
    "Y.update({'Y11': 0}) #Phonon decay term\n",
    "Y.update({'Y13': 0}) #Temperature Dependent Drude Scattering Coefficient\n",
    "#DO NOT change these! These just set it up."
   ]
  },
  {
   "cell_type": "markdown",
   "id": "eeb0a12a",
   "metadata": {},
   "source": [
    "## 4. Model Index\n",
    "<a id='index'></a>\n",
    "\n",
    "[Model Y-0](#y0)\n",
    "\n",
    "[Model Y-2](#y2)\n",
    "\n",
    "[Model Y-3](#y3)\n",
    "\n",
    "[Model Y-5](#y5)\n",
    "\n",
    "[Model Y-7](#y7)\n",
    "\n",
    "[Model Y-11](#y11)\n",
    "\n",
    "[Model Y-13](#y13)\n",
    "\n",
    "[Experiment Data](#exp)\n",
    "\n",
    "[Comparisons](#compare)"
   ]
  },
  {
   "cell_type": "markdown",
   "id": "6a767936",
   "metadata": {},
   "source": [
    "[Return to Index](#index)\n",
    "<a id='y0'></a>\n",
    "### Model Y-0: Base"
   ]
  },
  {
   "cell_type": "code",
   "execution_count": 9,
   "id": "a5e85243",
   "metadata": {
    "scrolled": true
   },
   "outputs": [],
   "source": [
    "if bEnableY0 == 1:\n",
    "    Y0 = y.Core(I, Relations_dict, Parameters, Y, peak_point)"
   ]
  },
  {
   "cell_type": "code",
   "execution_count": 10,
   "id": "cd676bba",
   "metadata": {
    "scrolled": false
   },
   "outputs": [],
   "source": [
    "if bEnableY0 == 1:\n",
    "    Graphing_TimeVSTemperature(Y0['Te'], Y0['Tp'])"
   ]
  },
  {
   "cell_type": "code",
   "execution_count": 11,
   "id": "0b6aa0f8",
   "metadata": {},
   "outputs": [],
   "source": [
    "if bEnableY0 == 1:\n",
    "    plt.plot(time_array/1e-12, Y0['Te'], label=\"Electron Temperature\", color=\"blue\")\n",
    "    plt.plot(time_array/1e-12, Y0['Tp'], label=\"Phonon Temperature\", color=\"green\")\n",
    "    #plt.plot(time_array/1e-12, power, label=\"Laser Pulse\", color=\"red\", linestyle=\"dashed\")\n",
    "    plt.xlabel(\"Time (ps)\")\n",
    "    plt.ylabel(\"Temperature (K)\")\n",
    "    plt.legend(loc=2, prop={'size':16})\n",
    "#plt.savefig('dataset1_temps.png', dpi=200)"
   ]
  },
  {
   "cell_type": "code",
   "execution_count": 12,
   "id": "73db130a",
   "metadata": {
    "scrolled": false
   },
   "outputs": [],
   "source": [
    "if bEnableY0 == 1:\n",
    "    Graphing_TimeVSCoefficients(Y0['Te'], Y0['T'], Y0['R'], Y0['A'])"
   ]
  },
  {
   "cell_type": "markdown",
   "id": "bc75bec3",
   "metadata": {},
   "source": [
    "[Return to Index](#index)\n",
    "<a id='y2'></a>\n",
    "### Model Y-2: Electron Heat Capacity"
   ]
  },
  {
   "cell_type": "code",
   "execution_count": 13,
   "id": "7b389c95",
   "metadata": {},
   "outputs": [],
   "source": [
    "if bEnableY2 == 1:\n",
    "    Y.update({'Y2': 1}) #Electron Heat Capacity modification\n",
    "    Y2 = y.Core(I, Relations_dict, Parameters, Y, peak_point)"
   ]
  },
  {
   "cell_type": "code",
   "execution_count": 14,
   "id": "8e628992",
   "metadata": {},
   "outputs": [],
   "source": [
    "if bEnableY2 == 1:\n",
    "    Graphing_TimeVSTemperature(Y2['Te'], Y2['Tp'])"
   ]
  },
  {
   "cell_type": "code",
   "execution_count": 15,
   "id": "be700a35",
   "metadata": {},
   "outputs": [],
   "source": [
    "if bEnableY2 == 1:\n",
    "    Graphing_TimeVSCoefficients(Y2['Te'], Y2['T'], Y2['R'], Y2['A'])"
   ]
  },
  {
   "cell_type": "markdown",
   "id": "cd938aa4",
   "metadata": {},
   "source": [
    "[Return to Index](#index)\n",
    "<a id='y3'></a>\n",
    "### Model Y-3: Phonon Heat Capacity Change"
   ]
  },
  {
   "cell_type": "code",
   "execution_count": 16,
   "id": "97caef42",
   "metadata": {},
   "outputs": [],
   "source": [
    "if bEnableY3 == 1:\n",
    "    Y.update({'Y2':0})\n",
    "    Y.update({'Y3':1})\n",
    "    Y3 = y.Core(I, Relations_dict, Parameters, Y, peak_point)"
   ]
  },
  {
   "cell_type": "code",
   "execution_count": 17,
   "id": "788acd31",
   "metadata": {
    "scrolled": true
   },
   "outputs": [],
   "source": [
    "if bEnableY3 == 1:\n",
    "    Graphing_TimeVSTemperature(Y3['Te'], Y3['Tp'])"
   ]
  },
  {
   "cell_type": "code",
   "execution_count": 18,
   "id": "4237aca7",
   "metadata": {},
   "outputs": [],
   "source": [
    "if bEnableY3 == 1:\n",
    "    Graphing_TimeVSCoefficients(Y3['Te'], Y3['T'], Y3['R'], Y3['A'])"
   ]
  },
  {
   "cell_type": "markdown",
   "id": "fd789e9f",
   "metadata": {},
   "source": [
    "[Return to Index](#index)\n",
    "<a id='y5'></a>\n",
    "### Model Y-5: Power Function Change"
   ]
  },
  {
   "cell_type": "code",
   "execution_count": 19,
   "id": "32d31c39",
   "metadata": {},
   "outputs": [],
   "source": [
    "if bEnableY5 == 1:\n",
    "    Y.update({'Y2': 0}) #Electron Heat Capacity modification\n",
    "    Y.update({'Y3': 0}) #Phonon Heat Capacity modification\n",
    "    Y.update({'Y5': 1}) #Power function modification\n",
    "    Y.update({'Y7': 0}) #Phonon relaxation modification\n",
    "    Y5 = y.Core(I, Relations_dict, Parameters, Y, peak_point)"
   ]
  },
  {
   "cell_type": "code",
   "execution_count": 20,
   "id": "07cca88f",
   "metadata": {},
   "outputs": [],
   "source": [
    "if bEnableY5 == 1:\n",
    "    Graphing_TimeVSTemperature(Y5['Te'], Y5['Tp'])"
   ]
  },
  {
   "cell_type": "code",
   "execution_count": 21,
   "id": "29c28f44",
   "metadata": {},
   "outputs": [],
   "source": [
    "if bEnableY5 == 1:\n",
    "    Graphing_TimeVSCoefficients(Y5['Te'], Y5['T'], Y5['R'], Y5['A'])"
   ]
  },
  {
   "cell_type": "markdown",
   "id": "222da477",
   "metadata": {},
   "source": [
    "[Return to Index](#index)\n",
    "<a id='y7'></a>\n",
    "### Model Y-7: Phonon Relaxation Modification"
   ]
  },
  {
   "cell_type": "code",
   "execution_count": 22,
   "id": "524894f0",
   "metadata": {},
   "outputs": [],
   "source": [
    "if bEnableY7 == 1:\n",
    "    Y.update({'Y2': 0}) #Electron Heat Capacity modification\n",
    "    Y.update({'Y3': 0}) #Phonon Heat Capacity modification\n",
    "    Y.update({'Y5': 0}) #Power function modification\n",
    "    Y.update({'Y7': 1}) #Phonon relaxation modification\n",
    "    Y7 = y.Core(I, Relations_dict, Parameters, Y, peak_point)"
   ]
  },
  {
   "cell_type": "code",
   "execution_count": 23,
   "id": "26142181",
   "metadata": {},
   "outputs": [],
   "source": [
    "if bEnableY7 == 1:\n",
    "    Graphing_TimeVSTemperature(Y7['Te'], Y7['Tp'])"
   ]
  },
  {
   "cell_type": "code",
   "execution_count": 24,
   "id": "68bb95d4",
   "metadata": {},
   "outputs": [],
   "source": [
    "if bEnableY7 == 1:\n",
    "    Graphing_TimeVSCoefficients(Y7['Te'], Y7['T'], Y7['R'], Y7['A'])"
   ]
  },
  {
   "cell_type": "markdown",
   "id": "e6e2c3f1",
   "metadata": {},
   "source": [
    "[Return to Index](#index)\n",
    "<a id='y11'></a>\n",
    "### Model Y-11: Phonon Decay Term"
   ]
  },
  {
   "cell_type": "code",
   "execution_count": 25,
   "id": "eaa1fd08",
   "metadata": {},
   "outputs": [],
   "source": [
    "if bEnableY11 == 1:\n",
    "    Y.update({'Y2': 0}) #Electron Heat Capacity modification\n",
    "    Y.update({'Y3': 0}) #Phonon Heat Capacity modification\n",
    "    Y.update({'Y5': 0}) #Power function modification\n",
    "    Y.update({'Y7': 0}) #Phonon relaxation modification\n",
    "    Y.update({'Y11': 1}) #Phonon decay\n",
    "    Y11 = y.Core(I, Relations_dict, Parameters, Y, peak_point)"
   ]
  },
  {
   "cell_type": "code",
   "execution_count": 26,
   "id": "c6df8210",
   "metadata": {
    "scrolled": false
   },
   "outputs": [],
   "source": [
    "if bEnableY11 == 1:\n",
    "    plt.plot(time_array/1e-12, Y11['Te'], label=\"Electron Temperature\", color=\"blue\")\n",
    "    plt.plot(time_array/1e-12, Y11['Tp'], label=\"Phonon Temperature\", color=\"green\")\n",
    "    #plt.plot(time_array/1e-12, power, label=\"Laser Pulse\", color=\"red\", linestyle=\"dashed\")\n",
    "    plt.xlabel(\"Time (ps)\")\n",
    "    plt.ylabel(\"Temperature (K)\")\n",
    "    plt.legend(loc=2, prop={'size':16})\n",
    "    plt.savefig('phonon_decay_temps.png', dpi=200)"
   ]
  },
  {
   "cell_type": "code",
   "execution_count": 27,
   "id": "79161e93",
   "metadata": {
    "scrolled": false
   },
   "outputs": [],
   "source": [
    "if bEnableY11 == 1:\n",
    "    Graphing_TimeVSCoefficients(Y11['Te'], Y11['T'], Y11['R'], Y11['A'])"
   ]
  },
  {
   "cell_type": "markdown",
   "id": "9fd17c28",
   "metadata": {},
   "source": [
    "[Return to Index](#index)\n",
    "<a id='y13'></a>\n",
    "### Model Y-13: Temperature Dependent Drude Scattering Coefficient"
   ]
  },
  {
   "cell_type": "code",
   "execution_count": 28,
   "id": "6e580dbb",
   "metadata": {},
   "outputs": [],
   "source": [
    "if bEnableY13 == 1:\n",
    "    Y.update({'Y2': 0})  #Electron Heat Capacity modification\n",
    "    Y.update({'Y3': 0})  #Phonon Heat Capacity modification\n",
    "    Y.update({'Y5': 0})  #Power function modification\n",
    "    Y.update({'Y7': 0})  #Phonon relaxation modification\n",
    "    Y.update({'Y11': 0}) #Phonon decay\n",
    "    Y.update({'Y13': 1}) #Temperature dependent drude scattering coefficient \n",
    "    Y13 = y.Core(I, Relations_dict, Parameters, Y, peak_point)"
   ]
  },
  {
   "cell_type": "code",
   "execution_count": 29,
   "id": "18208569",
   "metadata": {},
   "outputs": [
    {
     "data": {
      "image/png": "[encoded data removed]",
      "text/plain": [
       "<Figure size 720x444.994 with 1 Axes>"
      ]
     },
     "metadata": {
      "needs_background": "light"
     },
     "output_type": "display_data"
    }
   ],
   "source": [
    "if bEnableY13 == 1:\n",
    "    Graphing_TimeVSTemperature(Y13['Te'], Y13['Tp'])"
   ]
  },
  {
   "cell_type": "code",
   "execution_count": 30,
   "id": "76cd43e7",
   "metadata": {},
   "outputs": [
    {
     "data": {
      "image/png": "[encoded data removed]",
      "text/plain": [
       "<Figure size 720x444.994 with 1 Axes>"
      ]
     },
     "metadata": {
      "needs_background": "light"
     },
     "output_type": "display_data"
    }
   ],
   "source": [
    "if bEnableY13 == 1:\n",
    "    Graphing_TimeVSCoefficients(Y13['Te'], Y13['T'], Y13['R'], Y13['A'])"
   ]
  },
  {
   "cell_type": "markdown",
   "id": "505e31f5",
   "metadata": {},
   "source": [
    "[Return to Index](#index)\n",
    "<a id='exp'></a>\n",
    "### Experiment Data Processing"
   ]
  },
  {
   "cell_type": "code",
   "execution_count": 31,
   "id": "f0dd6e53",
   "metadata": {},
   "outputs": [
    {
     "name": "stdout",
     "output_type": "stream",
     "text": [
      "301\n"
     ]
    }
   ],
   "source": [
    "Experiment = np.genfromtxt(EXPERIMENT_PATH)\n",
    "print(len(Experiment))\n",
    "#Requires a different time_array as experimental data only has 301 data points.\n",
    "exp_time_array = np.linspace(-1500e-15, 1500e-15, 301)\n",
    "#Then interpolate from data to new data points so it can be plotted on graph with model.\n",
    "#Other approach would be to reduce the model's data points to experiment.\n",
    "Experiment_Interpolated = Interpolate(time_array, exp_time_array, Experiment)"
   ]
  },
  {
   "cell_type": "markdown",
   "id": "2701f25b",
   "metadata": {},
   "source": [
    "# Final Processing"
   ]
  },
  {
   "cell_type": "code",
   "execution_count": 32,
   "id": "58757636",
   "metadata": {},
   "outputs": [],
   "source": [
    "bEnableExperiment = 0\n",
    "if bEnableExperiment == 1:\n",
    "    GrandMax = max(Experiment_Interpolated)\n",
    "    YEN = Normalizer(Experiment_Interpolated, time_points, GrandMax, min(Experiment_Interpolated))\n",
    "    \n",
    "    if bEnableY0 == 1:\n",
    "        Y0N = Normalizer(Y0['T'], time_points, GrandMax, min(Y0['T']))\n",
    "    if bEnableY2 == 1:\n",
    "        Y2N = Normalizer(Y2['T'], time_points, GrandMax, min(Y2['T']))\n",
    "    if bEnableY3 == 1:\n",
    "        Y3N = Normalizer(Y3['T'], time_points, GrandMax, min(Y3['T']))\n",
    "    if bEnableY5 == 1:\n",
    "        Y5N = Normalizer(Y5['T'], time_points, GrandMax, min(Y5['T']))\n",
    "    if bEnableY7 == 1:\n",
    "        Y7N = Normalizer(Y7['T'], time_points, GrandMax, min(Y7['T']))\n",
    "    if bEnableY11 == 1:\n",
    "        Y11N = Normalizer(Y11['T'], time_points, GrandMax, min(Y11['T']))\n",
    "else:\n",
    "    if bEnableY0 == 1:\n",
    "        Y0N = Y0['T']\n",
    "    if bEnableY2 == 1:\n",
    "        Y2N = Y2['T']\n",
    "    if bEnableY3 == 1:\n",
    "        Y3N = Y3['T']\n",
    "    if bEnableY5 == 1:\n",
    "        Y5N = Y5['T']\n",
    "    if bEnableY7 == 1:\n",
    "        Y7N = Y7['T']\n",
    "    if bEnableY11 == 1:\n",
    "        Y11N = Y11['T']\n",
    "    if bEnableY13 == 1:\n",
    "        Y13N = Y13['T']"
   ]
  },
  {
   "cell_type": "markdown",
   "id": "b0c22207",
   "metadata": {},
   "source": [
    "[Return to Index](#index)\n",
    "<a id='compare'></a>\n",
    "## Model and Experiment Comparisons"
   ]
  },
  {
   "cell_type": "code",
   "execution_count": 33,
   "id": "655a243d",
   "metadata": {
    "scrolled": false
   },
   "outputs": [
    {
     "data": {
      "text/plain": [
       "<matplotlib.legend.Legend at 0x24174a73dc0>"
      ]
     },
     "execution_count": 33,
     "metadata": {},
     "output_type": "execute_result"
    },
    {
     "data": {
      "image/png": "[encoded data removed]",
      "text/plain": [
       "<Figure size 720x444.994 with 1 Axes>"
      ]
     },
     "metadata": {
      "needs_background": "light"
     },
     "output_type": "display_data"
    }
   ],
   "source": [
    "if bEnableY0 == 1:\n",
    "    plt.plot(time_array/1e-12, Y0N, label=\"Model\", color=\"blue\")\n",
    "if bEnableY2 == 1:\n",
    "    plt.plot(time_array/1e-12, Y2N, label=\"Electron HC\")\n",
    "if bEnableY3 == 1:\n",
    "    plt.plot(time_array/1e-12, Y3N, label=\"Phonon HC\")\n",
    "if bEnableY5 == 1:\n",
    "    plt.plot(time_array/1e-12, Y5N, label=\"Power\")\n",
    "if bEnableY7 == 1:\n",
    "    plt.plot(time_array/1e-12, Y7N, label=\"Relaxation Coeff\")\n",
    "if bEnableY11 == 1:\n",
    "    plt.plot(time_array/1e-12, Y11N, label=\"Heat Decay\")\n",
    "if bEnableY13 == 1:\n",
    "    plt.plot(time_array/1e-12, Y13N, label=\"Model\")\n",
    "bEnableExperiment = 1\n",
    "if bEnableExperiment == 1:\n",
    "    #plt.plot(exp_time_array/1e-12, Experiment, label=\"Experiment\",linestyle=\"dotted\", color=\"black\")\n",
    "    #plt.plot(time_array/1e-12, 1.4*Experiment_Interpolated, label=\"Experiment Scaled\",linestyle=\"dotted\", color=\"blue\")\n",
    "    plt.scatter(exp_time_array/1e-12, Experiment, s=1, color=\"black\", label=\"Experiment\")\n",
    "plt.xlabel(\"Time (ps)\", fontsize=18)\n",
    "plt.ylabel(\"Transmission Coefficient\", fontsize=18)\n",
    "#plt.axvline(0, color=\"red\", linestyle=\"dotted\")\n",
    "#plt.ylim(0.2)\n",
    "plt.legend(loc=2, prop={'size':18})\n",
    "#plt.title(\"Pump Probe Model-Experiment Comparison\", fontsize=18)\n",
    "#plt.savefig('temp_scat_rate.png', dpi=200)"
   ]
  },
  {
   "cell_type": "markdown",
   "id": "b5f86ba3",
   "metadata": {},
   "source": [
    "import IDRIM.errors as err"
   ]
  },
  {
   "cell_type": "markdown",
   "id": "d5fe01db",
   "metadata": {},
   "source": [
    "Delta, subs = err.GlobalSubstrateError(1240*nm, wp_array[0], 30)"
   ]
  },
  {
   "cell_type": "markdown",
   "id": "b47baf7b",
   "metadata": {},
   "source": [
    "print(\"Rest Uncertainty:\", Delta[0])\n",
    "print(\"Max Worst Substrate Thickness:\", subs[0])\n",
    "print(\"Min Worst Substrate Thickness:\", subs[1])"
   ]
  },
  {
   "cell_type": "markdown",
   "id": "ac2393e1",
   "metadata": {},
   "source": [
    "Parameters2={'wavelength':1240*nm, 'pulse':104e-15, 'angle':30, 'thick':[inf, 407, subs[0], inf], 'Res':100}\n",
    "Parameters3={'wavelength':1240*nm, 'pulse':104e-15, 'angle':30, 'thick':[inf, 407, subs[1], inf], 'Res':100}\n",
    "Y = {} #Set to 0 or 1. Multiple can be used at once.\n",
    "Y.update({'Y2': 0}) #Electron Heat Capacity modification\n",
    "Y.update({'Y3': 0}) #Phonon Heat Capacity modification\n",
    "Y.update({'Y5': 0}) #Power function modification\n",
    "Y.update({'Y7': 0}) #Phonon relaxation modification\n",
    "Y.update({'Y11': 0}) #Phonon decay term\n",
    "Y.update({'Y13': 0}) #Temperature Dependent Drude Scattering Coefficient\n",
    "#DO NOT change these! These just set it up.\n",
    "Y0_sub0 = y.Core(I, Relations_dict, Parameters2, Y, peak_point)\n",
    "Y0_sub1 = y.Core(I, Relations_dict, Parameters3, Y, peak_point)"
   ]
  },
  {
   "cell_type": "markdown",
   "id": "c6b7a548",
   "metadata": {},
   "source": [
    "plt.scatter(exp_time_array/1e-12, Experiment, s=1, color=\"black\", label=\"Experiment\")\n",
    "plt.plot(time_array/1e-12, Y0['T'], label=\"Substrate Base\", color=\"blue\")\n",
    "plt.plot(time_array/1e-12, Y0_sub0['T'], label=\"Substrate Max\", linestyle=\"dashed\", color=\"red\")\n",
    "plt.plot(time_array/1e-12, Y0_sub1['T'], label=\"Substrate Min\", linestyle=\"dashed\", color=\"red\")\n",
    "plt.legend()"
   ]
  }
 ],
 "metadata": {
  "kernelspec": {
   "display_name": "Python 3",
   "language": "python",
   "name": "python3"
  },
  "language_info": {
   "codemirror_mode": {
    "name": "ipython",
    "version": 3
   },
   "file_extension": ".py",
   "mimetype": "text/x-python",
   "name": "python",
   "nbconvert_exporter": "python",
   "pygments_lexer": "ipython3",
   "version": "3.9.2"
  }
 },
 "nbformat": 4,
 "nbformat_minor": 5
}
