{
 "cells": [
  {
   "cell_type": "markdown",
   "id": "ff240044",
   "metadata": {},
   "source": [
    "# Modelling Transmission Response of ITO [Pump Probe] (Y-Models)"
   ]
  },
  {
   "cell_type": "markdown",
   "id": "adb4062e",
   "metadata": {},
   "source": [
    "## 1. Introduction\n",
    "This file contains the different models being used to attempt to successfully model a correct Transmission Response of Indium Tin Oxide upon a Pump-Probe laser setup. To look at the known relationships and the background relations, consult the Relations notebook. \n",
    "\n",
    "Code is stored in separate python files and then loaded in. This is to tidy up the code as well as to reduce file size on this notebook. Note that laser parameters are not transferred between this and the relations file, so be careful on that.\n",
    "\n",
    "### File Input Warnings\n",
    "\n",
    "Experimental data must not be normalized prior to insertion into the notebook. This is because the notebook will find the maximum to normalize the model outputs. The experimental data will be normalized alongside the model outputs.\n",
    "\n",
    "Experimental data must be in the range (0, 1). This will require the open-scan transmission value. To reiterate, the experimental maximum should not be 1. That operation is performed in this notebook. The open-scan transmission value in arbitrary units should be unity.\n",
    "\n",
    "Experimental data file format is INTENSITY.WAVELENGTH.PULSE.ANGLE.THICKNESS.NAME.txt. This will be checked against model inputs, so make sure it is correct. Otherwise, [in this cell](#check), change function parameter CHECK=1 to CHECK=0 to skip checking these. The .NAME. is not required but will still work with the code."
   ]
  },
  {
   "cell_type": "markdown",
   "id": "7d0b8573",
   "metadata": {},
   "source": [
    "## 2. Module Import and Setup\n",
    "<a id='top'></a>"
   ]
  },
  {
   "cell_type": "code",
   "execution_count": 1,
   "id": "4f730fa9",
   "metadata": {},
   "outputs": [],
   "source": [
    "from IDRIM.constants import *\n",
    "from IDRIM.relations import *\n",
    "from IDRIM.graph import *\n",
    "from IDRIM.commons import *\n",
    "from IDRIM.checks import *\n",
    "from IDRIM.modcom import *\n",
    "from IDRIM.genesis import *\n",
    "from IDRIM.ymodcom import *\n",
    "from IDRIM.file import *\n",
    "import IDRIM.models.y1 as y\n",
    "from numpy import inf\n"
   ]
  },
  {
   "cell_type": "markdown",
   "id": "8cb1f7ee",
   "metadata": {},
   "source": [
    "# 3. Model Inputs\n",
    "\n",
    "Insert values as desired."
   ]
  },
  {
   "cell_type": "code",
   "execution_count": 2,
   "id": "14323b37",
   "metadata": {},
   "outputs": [],
   "source": [
    "EXPERIMENT_PATH = \"data/exp/250.1240.104.30.407.txt\"\n",
    "#Format is INTENSITY.WAVELENGTH.PULSE.ANGLE.THICKNESS\n",
    "Parameters={'wavelength':1417*nm, 'pulse':104e-15, 'angle':50, 'thick':[inf, 407, 10000, inf], 'Res':100}\n",
    "#thickness parameters: 1st element (inf) must be there as transfer matrix method module requires it.\n",
    "#2nd element (407) is the sample thickness of ITO in nm\n",
    "#3rd element (?????) is substrate thickness after ITO sample in nm\n",
    "#4th element (inf) must also be there for TMM module.\n",
    "I = 250 #Gwcm2\n",
    "peak_point= -0.1#ps conversion is done in y1.py"
   ]
  },
  {
   "cell_type": "code",
   "execution_count": 3,
   "id": "664be74f",
   "metadata": {},
   "outputs": [],
   "source": [
    "i = IntensityArrayIndex(I, IntRes=Parameters['Res']) "
   ]
  },
  {
   "cell_type": "code",
   "execution_count": 4,
   "id": "38ae025f",
   "metadata": {},
   "outputs": [],
   "source": [
    "bEnableY0  = 1  # Simulate Model Y-0.\n",
    "bEnableY2  = 0  # Simulate Model Y-2. Electron Heat Capacity Change\n",
    "bEnableY3  = 0  # Simulate Model Y-3. Phonon Heat Capacity Change\n",
    "bEnableY5  = 0  # Simulate Model Y-5. Power Function is just wrong\n",
    "bEnableY7  = 0  # Simulate Model Y-7. Doesn't change anything. Which is good, what was expected\n",
    "bEnableY11 = 0 # Simulate Model Y-11. Phonon decay term (Tom's)\n",
    "bEnableY13 = 0 # Simulate Model Y-13. Temperature dependent Drude scattering coefficient.\n",
    "\n",
    "bEnableExperiment = 1 # Enable Experiment data plotting"
   ]
  },
  {
   "cell_type": "markdown",
   "id": "647f8ad8",
   "metadata": {},
   "source": [
    "Model Input Feedback\n",
    "<a id='check'></a>"
   ]
  },
  {
   "cell_type": "code",
   "execution_count": 5,
   "id": "3812e86d",
   "metadata": {
    "scrolled": true
   },
   "outputs": [
    {
     "name": "stdout",
     "output_type": "stream",
     "text": [
      "Experimental Intensity: 250 Gw/cm²\n",
      "Model Intensity: 250 Gw/cm² \n",
      "\n",
      "Experimental Wavelength: 1240 nm\n",
      "Model Wavelength: 1417 nm\n",
      "\n",
      "Experimental Pulse: 104 fs\n",
      "Model Pulse: 104.0 fs\n",
      "\n",
      "Experimental Angle: 30 degrees\n",
      "Model Angle: 50 degrees\n",
      "\n",
      "Experimental Sample Thickness: 407 nm\n",
      "Model Sample Thickness: 407 nm\n",
      "\n",
      "Experimental parameters and model input have not been checked. Please perform this manually.\n"
     ]
    }
   ],
   "source": [
    "if bEnableExperiment == 1:\n",
    "    ExperimentParamPrinter(EXPERIMENT_PATH, I, Parameters, CHECK=0)"
   ]
  },
  {
   "cell_type": "code",
   "execution_count": 6,
   "id": "796548fc",
   "metadata": {},
   "outputs": [
    {
     "name": "stdout",
     "output_type": "stream",
     "text": [
      "OVERRIDE Detected. Regenerating.\n",
      "Solving Chemical Potential. This may take some time.\n",
      "Mu Generated and Saved.\n",
      "Generating Phonon Heat Capacity.\n",
      "Phonon Heat Capacity generated and saved.\n",
      "Generating Electron Heat Capacity.\n",
      "Electron Heat Capacity generated and saved.\n",
      "Generating Plasma Frequency\n",
      "Plasma Frequency array generated and saved.\n",
      "Generating Refractive Index.\n",
      "Refractive Index array generated and saved.\n",
      "\n",
      "\n",
      "REGENERATION COMPLETE.\n",
      "Fit Parameter is 0.061041717869578724\n"
     ]
    }
   ],
   "source": [
    "mu_array, Cp_array, Ce_array, wp_array, RI_array, Fit = Regeneration(Parameters, OVERRIDE=1)\n",
    "Relations_dict = {'mu':mu_array, 'Cp':Cp_array, 'wp':wp_array, 'Ce':Ce_array, 'RI':RI_array, 'Fit':Fit}\n",
    "print(\"Fit Parameter is\",Fit)"
   ]
  },
  {
   "cell_type": "code",
   "execution_count": 7,
   "id": "86cffdd8",
   "metadata": {},
   "outputs": [],
   "source": [
    "Y = {} #Set to 0 or 1. Multiple can be used at once.\n",
    "Y.update({'Y2': 0}) #Electron Heat Capacity modification\n",
    "Y.update({'Y3': 0}) #Phonon Heat Capacity modification\n",
    "Y.update({'Y5': 0}) #Power function modification\n",
    "Y.update({'Y7': 0}) #Phonon relaxation modification\n",
    "Y.update({'Y11': 0}) #Phonon decay term\n",
    "Y.update({'Y13': 0}) #Temperature Dependent Drude Scattering Coefficient\n",
    "#DO NOT change these! These just set it up."
   ]
  },
  {
   "cell_type": "markdown",
   "id": "eeb0a12a",
   "metadata": {},
   "source": [
    "## 4. Model Index\n",
    "<a id='index'></a>\n",
    "\n",
    "[Model Y-0](#y0)\n",
    "\n",
    "[Model Y-2](#y2)\n",
    "\n",
    "[Model Y-3](#y3)\n",
    "\n",
    "[Model Y-5](#y5)\n",
    "\n",
    "[Model Y-7](#y7)\n",
    "\n",
    "[Model Y-11](#y11)\n",
    "\n",
    "[Model Y-13](#y13)\n",
    "\n",
    "[Experiment Data](#exp)\n",
    "\n",
    "[Comparisons](#compare)"
   ]
  },
  {
   "cell_type": "markdown",
   "id": "6a767936",
   "metadata": {},
   "source": [
    "[Return to Index](#index)\n",
    "<a id='y0'></a>\n",
    "### Model Y-0: Base"
   ]
  },
  {
   "cell_type": "code",
   "execution_count": 8,
   "id": "a5e85243",
   "metadata": {
    "scrolled": true
   },
   "outputs": [],
   "source": [
    "if bEnableY0 == 1:\n",
    "    Y0 = y.Core(I, Relations_dict, Parameters, Y, peak_point)"
   ]
  },
  {
   "cell_type": "code",
   "execution_count": 9,
   "id": "cd676bba",
   "metadata": {},
   "outputs": [
    {
     "data": {
      "image/png": "[encoded data removed]",
      "text/plain": [
       "<Figure size 432x288 with 1 Axes>"
      ]
     },
     "metadata": {
      "needs_background": "light"
     },
     "output_type": "display_data"
    }
   ],
   "source": [
    "if bEnableY0 == 1:\n",
    "    Graphing_TimeVSTemperature(Y0['Te'], Y0['Tp'])"
   ]
  },
  {
   "cell_type": "code",
   "execution_count": 10,
   "id": "73db130a",
   "metadata": {
    "scrolled": true
   },
   "outputs": [
    {
     "data": {
      "image/png": "[encoded data removed]",
      "text/plain": [
       "<Figure size 432x288 with 1 Axes>"
      ]
     },
     "metadata": {
      "needs_background": "light"
     },
     "output_type": "display_data"
    }
   ],
   "source": [
    "if bEnableY0 == 1:\n",
    "    Graphing_TimeVSCoefficients(Y0['Te'], Y0['T'], Y0['R'], Y0['A'])"
   ]
  },
  {
   "cell_type": "markdown",
   "id": "bc75bec3",
   "metadata": {},
   "source": [
    "[Return to Index](#index)\n",
    "<a id='y2'></a>\n",
    "### Model Y-2: Electron Heat Capacity"
   ]
  },
  {
   "cell_type": "code",
   "execution_count": 11,
   "id": "7b389c95",
   "metadata": {},
   "outputs": [],
   "source": [
    "if bEnableY2 == 1:\n",
    "    Y.update({'Y2': 1}) #Electron Heat Capacity modification\n",
    "    Y2 = y.Core(I, Relations_dict, Parameters, Y, peak_point)"
   ]
  },
  {
   "cell_type": "code",
   "execution_count": 12,
   "id": "8e628992",
   "metadata": {},
   "outputs": [],
   "source": [
    "if bEnableY2 == 1:\n",
    "    Graphing_TimeVSTemperature(Y2['Te'], Y2['Tp'])"
   ]
  },
  {
   "cell_type": "code",
   "execution_count": 13,
   "id": "be700a35",
   "metadata": {},
   "outputs": [],
   "source": [
    "if bEnableY2 == 1:\n",
    "    Graphing_TimeVSCoefficients(Y2['Te'], Y2['T'], Y2['R'], Y2['A'])"
   ]
  },
  {
   "cell_type": "markdown",
   "id": "cd938aa4",
   "metadata": {},
   "source": [
    "[Return to Index](#index)\n",
    "<a id='y3'></a>\n",
    "### Model Y-3: Phonon Heat Capacity Change"
   ]
  },
  {
   "cell_type": "code",
   "execution_count": 14,
   "id": "97caef42",
   "metadata": {},
   "outputs": [],
   "source": [
    "if bEnableY3 == 1:\n",
    "    Y.update({'Y2':0})\n",
    "    Y.update({'Y3':1})\n",
    "    Y3 = y.Core(I, Relations_dict, Parameters, Y, peak_point)"
   ]
  },
  {
   "cell_type": "code",
   "execution_count": 15,
   "id": "788acd31",
   "metadata": {
    "scrolled": true
   },
   "outputs": [],
   "source": [
    "if bEnableY3 == 1:\n",
    "    Graphing_TimeVSTemperature(Y3['Te'], Y3['Tp'])"
   ]
  },
  {
   "cell_type": "code",
   "execution_count": 16,
   "id": "4237aca7",
   "metadata": {},
   "outputs": [],
   "source": [
    "if bEnableY3 == 1:\n",
    "    Graphing_TimeVSCoefficients(Y3['Te'], Y3['T'], Y3['R'], Y3['A'])"
   ]
  },
  {
   "cell_type": "markdown",
   "id": "fd789e9f",
   "metadata": {},
   "source": [
    "[Return to Index](#index)\n",
    "<a id='y5'></a>\n",
    "### Model Y-5: Power Function Change"
   ]
  },
  {
   "cell_type": "code",
   "execution_count": 17,
   "id": "32d31c39",
   "metadata": {},
   "outputs": [],
   "source": [
    "if bEnableY5 == 1:\n",
    "    Y.update({'Y2': 0}) #Electron Heat Capacity modification\n",
    "    Y.update({'Y3': 0}) #Phonon Heat Capacity modification\n",
    "    Y.update({'Y5': 1}) #Power function modification\n",
    "    Y.update({'Y7': 0}) #Phonon relaxation modification\n",
    "    Y5 = y.Core(I, Relations_dict, Parameters, Y, peak_point)"
   ]
  },
  {
   "cell_type": "code",
   "execution_count": 18,
   "id": "07cca88f",
   "metadata": {},
   "outputs": [],
   "source": [
    "if bEnableY5 == 1:\n",
    "    Graphing_TimeVSTemperature(Y5['Te'], Y5['Tp'])"
   ]
  },
  {
   "cell_type": "code",
   "execution_count": 19,
   "id": "29c28f44",
   "metadata": {},
   "outputs": [],
   "source": [
    "if bEnableY5 == 1:\n",
    "    Graphing_TimeVSCoefficients(Y5['Te'], Y5['T'], Y5['R'], Y5['A'])"
   ]
  },
  {
   "cell_type": "markdown",
   "id": "222da477",
   "metadata": {},
   "source": [
    "[Return to Index](#index)\n",
    "<a id='y7'></a>\n",
    "### Model Y-7: Phonon Relaxation Modification"
   ]
  },
  {
   "cell_type": "code",
   "execution_count": 20,
   "id": "524894f0",
   "metadata": {},
   "outputs": [],
   "source": [
    "if bEnableY7 == 1:\n",
    "    Y.update({'Y2': 0}) #Electron Heat Capacity modification\n",
    "    Y.update({'Y3': 0}) #Phonon Heat Capacity modification\n",
    "    Y.update({'Y5': 0}) #Power function modification\n",
    "    Y.update({'Y7': 1}) #Phonon relaxation modification\n",
    "    Y7 = y.Core(I, Relations_dict, Parameters, Y, peak_point)"
   ]
  },
  {
   "cell_type": "code",
   "execution_count": 21,
   "id": "26142181",
   "metadata": {},
   "outputs": [],
   "source": [
    "if bEnableY7 == 1:\n",
    "    Graphing_TimeVSTemperature(Y7['Te'], Y7['Tp'])"
   ]
  },
  {
   "cell_type": "code",
   "execution_count": 22,
   "id": "68bb95d4",
   "metadata": {},
   "outputs": [],
   "source": [
    "if bEnableY7 == 1:\n",
    "    Graphing_TimeVSCoefficients(Y7['Te'], Y7['T'], Y7['R'], Y7['A'])"
   ]
  },
  {
   "cell_type": "markdown",
   "id": "e6e2c3f1",
   "metadata": {},
   "source": [
    "[Return to Index](#index)\n",
    "<a id='y11'></a>\n",
    "### Model Y-11: Phonon Decay Term"
   ]
  },
  {
   "cell_type": "code",
   "execution_count": 23,
   "id": "eaa1fd08",
   "metadata": {},
   "outputs": [],
   "source": [
    "if bEnableY11 == 1:\n",
    "    Y.update({'Y2': 0}) #Electron Heat Capacity modification\n",
    "    Y.update({'Y3': 0}) #Phonon Heat Capacity modification\n",
    "    Y.update({'Y5': 0}) #Power function modification\n",
    "    Y.update({'Y7': 0}) #Phonon relaxation modification\n",
    "    Y.update({'Y11': 1}) #Phonon decay\n",
    "    Y11 = y.Core(I, Relations_dict, Parameters, Y, peak_point)"
   ]
  },
  {
   "cell_type": "code",
   "execution_count": 24,
   "id": "c6df8210",
   "metadata": {},
   "outputs": [],
   "source": [
    "if bEnableY11 == 1:\n",
    "    Graphing_TimeVSTemperature(Y11['Te'], Y11['Tp'])"
   ]
  },
  {
   "cell_type": "code",
   "execution_count": 25,
   "id": "79161e93",
   "metadata": {},
   "outputs": [],
   "source": [
    "if bEnableY11 == 1:\n",
    "    Graphing_TimeVSCoefficients(Y11['Te'], Y11['T'], Y11['R'], Y11['A'])"
   ]
  },
  {
   "cell_type": "markdown",
   "id": "9fd17c28",
   "metadata": {},
   "source": [
    "[Return to Index](#index)\n",
    "<a id='y13'></a>\n",
    "### Model Y-13: Temperature Dependent Drude Scattering Coefficient"
   ]
  },
  {
   "cell_type": "code",
   "execution_count": 26,
   "id": "6e580dbb",
   "metadata": {},
   "outputs": [],
   "source": [
    "if bEnableY13 == 1:\n",
    "    Y.update({'Y2': 0})  #Electron Heat Capacity modification\n",
    "    Y.update({'Y3': 0})  #Phonon Heat Capacity modification\n",
    "    Y.update({'Y5': 0})  #Power function modification\n",
    "    Y.update({'Y7': 0})  #Phonon relaxation modification\n",
    "    Y.update({'Y11': 0}) #Phonon decay\n",
    "    Y.update({'Y13': 1}) #Temperature dependent drude scattering coefficient \n",
    "    Y13 = y.Core(I, Relations_dict, Parameters, Y, peak_point)"
   ]
  },
  {
   "cell_type": "code",
   "execution_count": 27,
   "id": "18208569",
   "metadata": {},
   "outputs": [],
   "source": [
    "if bEnableY13 == 1:\n",
    "    Graphing_TimeVSTemperature(Y13['Te'], Y13['Tp'])"
   ]
  },
  {
   "cell_type": "code",
   "execution_count": 28,
   "id": "76cd43e7",
   "metadata": {},
   "outputs": [],
   "source": [
    "if bEnableY13 == 1:\n",
    "    Graphing_TimeVSCoefficients(Y13['Te'], Y13['T'], Y13['R'], Y13['A'])"
   ]
  },
  {
   "cell_type": "markdown",
   "id": "505e31f5",
   "metadata": {},
   "source": [
    "[Return to Index](#index)\n",
    "<a id='exp'></a>\n",
    "### Experiment Data Processing"
   ]
  },
  {
   "cell_type": "code",
   "execution_count": 29,
   "id": "f0dd6e53",
   "metadata": {},
   "outputs": [
    {
     "name": "stdout",
     "output_type": "stream",
     "text": [
      "301\n"
     ]
    }
   ],
   "source": [
    "Experiment = np.genfromtxt(EXPERIMENT_PATH)\n",
    "print(len(Experiment))\n",
    "#Requires a different time_array as experimental data only has 301 data points.\n",
    "exp_time_array = np.linspace(-1500e-15, 1500e-15, 301)\n",
    "#Then interpolate from data to new data points so it can be plotted on graph with model.\n",
    "#Other approach would be to reduce the model's data points to experiment.\n",
    "Experiment_Interpolated = Interpolate(time_array, exp_time_array, Experiment)"
   ]
  },
  {
   "cell_type": "markdown",
   "id": "2701f25b",
   "metadata": {},
   "source": [
    "# Final Processing"
   ]
  },
  {
   "cell_type": "code",
   "execution_count": 30,
   "id": "58757636",
   "metadata": {},
   "outputs": [],
   "source": [
    "bEnableExperiment = 0\n",
    "if bEnableExperiment == 1:\n",
    "    GrandMax = max(Experiment_Interpolated)\n",
    "    YEN = Normalizer(Experiment_Interpolated, time_points, GrandMax, min(Experiment_Interpolated))\n",
    "    \n",
    "    if bEnableY0 == 1:\n",
    "        Y0N = Normalizer(Y0['T'], time_points, GrandMax, min(Y0['T']))\n",
    "    if bEnableY2 == 1:\n",
    "        Y2N = Normalizer(Y2['T'], time_points, GrandMax, min(Y2['T']))\n",
    "    if bEnableY3 == 1:\n",
    "        Y3N = Normalizer(Y3['T'], time_points, GrandMax, min(Y3['T']))\n",
    "    if bEnableY5 == 1:\n",
    "        Y5N = Normalizer(Y5['T'], time_points, GrandMax, min(Y5['T']))\n",
    "    if bEnableY7 == 1:\n",
    "        Y7N = Normalizer(Y7['T'], time_points, GrandMax, min(Y7['T']))\n",
    "    if bEnableY11 == 1:\n",
    "        Y11N = Normalizer(Y11['T'], time_points, GrandMax, min(Y11['T']))\n",
    "else:\n",
    "    if bEnableY0 == 1:\n",
    "        Y0N = Y0['T']\n",
    "    if bEnableY2 == 1:\n",
    "        Y2N = Y2['T']\n",
    "    if bEnableY3 == 1:\n",
    "        Y3N = Y3['T']\n",
    "    if bEnableY5 == 1:\n",
    "        Y5N = Y5['T']\n",
    "    if bEnableY7 == 1:\n",
    "        Y7N = Y7['T']\n",
    "    if bEnableY11 == 1:\n",
    "        Y11N = Y11['T']\n",
    "    if bEnableY13 == 1:\n",
    "        Y13N = Y13['T']"
   ]
  },
  {
   "cell_type": "markdown",
   "id": "b0c22207",
   "metadata": {},
   "source": [
    "[Return to Index](#index)\n",
    "<a id='compare'></a>\n",
    "## Model and Experiment Comparisons"
   ]
  },
  {
   "cell_type": "code",
   "execution_count": 31,
   "id": "655a243d",
   "metadata": {
    "scrolled": false
   },
   "outputs": [
    {
     "data": {
      "image/png": "[encoded data removed]",
      "text/plain": [
       "<Figure size 432x288 with 1 Axes>"
      ]
     },
     "metadata": {
      "needs_background": "light"
     },
     "output_type": "display_data"
    }
   ],
   "source": [
    "if bEnableY0 == 1:\n",
    "    plt.plot(time_array/1e-12, Y0N, label=\"Model\")\n",
    "if bEnableY2 == 1:\n",
    "    plt.plot(time_array/1e-12, Y2N, label=\"Electron HC\")\n",
    "if bEnableY3 == 1:\n",
    "    plt.plot(time_array/1e-12, Y3N, label=\"Phonon HC\")\n",
    "if bEnableY5 == 1:\n",
    "    plt.plot(time_array/1e-12, Y5N, label=\"Power\")\n",
    "if bEnableY7 == 1:\n",
    "    plt.plot(time_array/1e-12, Y7N, label=\"Relaxation Coeff\")\n",
    "if bEnableY11 == 1:\n",
    "    plt.plot(time_array/1e-12, Y11N, label=\"Phonon Decay\")\n",
    "if bEnableY13 == 1:\n",
    "    plt.plot(time_array/1e-12, Y13N, label=\"Gamma\")\n",
    "bEnableExperiment = 1\n",
    "if bEnableExperiment == 1:\n",
    "    #plt.plot(exp_time_array/1e-12, Experiment, label=\"Experiment\",linestyle=\"dotted\", color=\"black\")\n",
    "    #plt.plot(time_array/1e-12, 1.4*Experiment_Interpolated, label=\"Experiment Scaled\",linestyle=\"dotted\", color=\"blue\")\n",
    "    plt.scatter(exp_time_array/1e-12, Experiment, s=1, color=\"black\", label=\"Experiment\")\n",
    "plt.xlabel(\"Time (ps)\", fontsize=18)\n",
    "plt.ylabel(\"Transmission Coefficient\", fontsize=18)\n",
    "#plt.axvline(0, color=\"red\", linestyle=\"dotted\")\n",
    "#plt.ylim(0.2)\n",
    "plt.legend(loc=2, prop={'size':12})\n",
    "plt.title(\"Pump Probe Model-Experiment Comparison\", fontsize=18)\n",
    "plt.savefig('model_output.svg')"
   ]
  },
  {
   "cell_type": "code",
   "execution_count": 32,
   "id": "1e172303",
   "metadata": {},
   "outputs": [],
   "source": [
    "import IDRIM.errors as err"
   ]
  },
  {
   "cell_type": "code",
   "execution_count": 33,
   "id": "0b74cb59",
   "metadata": {},
   "outputs": [],
   "source": [
    "Delta, subs = err.GlobalSubstrateError(1240*nm, wp_array[0], 30)"
   ]
  },
  {
   "cell_type": "code",
   "execution_count": 34,
   "id": "6a13aa49",
   "metadata": {},
   "outputs": [
    {
     "name": "stdout",
     "output_type": "stream",
     "text": [
      "Rest Uncertainty: 0.02419787059338971\n",
      "Max Worst Substrate Thickness: 10572.572572572573\n",
      "Min Worst Substrate Thickness: 13859.85985985986\n"
     ]
    }
   ],
   "source": [
    "print(\"Rest Uncertainty:\", Delta[0])\n",
    "print(\"Max Worst Substrate Thickness:\", subs[0])\n",
    "print(\"Min Worst Substrate Thickness:\", subs[1])"
   ]
  },
  {
   "cell_type": "code",
   "execution_count": 35,
   "id": "be34ce15",
   "metadata": {},
   "outputs": [],
   "source": [
    "Parameters2={'wavelength':1240*nm, 'pulse':104e-15, 'angle':30, 'thick':[inf, 407, subs[0], inf], 'Res':100}\n",
    "Parameters3={'wavelength':1240*nm, 'pulse':104e-15, 'angle':30, 'thick':[inf, 407, subs[1], inf], 'Res':100}\n",
    "Y = {} #Set to 0 or 1. Multiple can be used at once.\n",
    "Y.update({'Y2': 0}) #Electron Heat Capacity modification\n",
    "Y.update({'Y3': 0}) #Phonon Heat Capacity modification\n",
    "Y.update({'Y5': 0}) #Power function modification\n",
    "Y.update({'Y7': 0}) #Phonon relaxation modification\n",
    "Y.update({'Y11': 0}) #Phonon decay term\n",
    "Y.update({'Y13': 0}) #Temperature Dependent Drude Scattering Coefficient\n",
    "#DO NOT change these! These just set it up.\n",
    "Y0_sub0 = y.Core(I, Relations_dict, Parameters2, Y, peak_point)\n",
    "Y0_sub1 = y.Core(I, Relations_dict, Parameters3, Y, peak_point)"
   ]
  },
  {
   "cell_type": "code",
   "execution_count": 36,
   "id": "790731a6",
   "metadata": {},
   "outputs": [
    {
     "data": {
      "text/plain": [
       "<matplotlib.legend.Legend at 0x1eacc1500d0>"
      ]
     },
     "execution_count": 36,
     "metadata": {},
     "output_type": "execute_result"
    },
    {
     "data": {
      "image/png": "[encoded data removed]",
      "text/plain": [
       "<Figure size 432x288 with 1 Axes>"
      ]
     },
     "metadata": {
      "needs_background": "light"
     },
     "output_type": "display_data"
    }
   ],
   "source": [
    "plt.scatter(exp_time_array/1e-12, Experiment, s=1, color=\"black\", label=\"Experiment\")\n",
    "plt.plot(time_array/1e-12, Y0['T'], label=\"Substrate Base\", color=\"blue\")\n",
    "plt.plot(time_array/1e-12, Y0_sub0['T'], label=\"Substrate Max\", linestyle=\"dashed\", color=\"red\")\n",
    "plt.plot(time_array/1e-12, Y0_sub1['T'], label=\"Substrate Min\", linestyle=\"dashed\", color=\"red\")\n",
    "plt.legend()"
   ]
  },
  {
   "cell_type": "code",
   "execution_count": 37,
   "id": "25de615e",
   "metadata": {},
   "outputs": [
    {
     "data": {
      "text/plain": [
       "0.03262279884003184"
      ]
     },
     "execution_count": 37,
     "metadata": {},
     "output_type": "execute_result"
    }
   ],
   "source": [
    "Y0['T'][0]"
   ]
  },
  {
   "cell_type": "code",
   "execution_count": 38,
   "id": "f26a97b8",
   "metadata": {},
   "outputs": [
    {
     "data": {
      "text/plain": [
       "[<matplotlib.lines.Line2D at 0x1eacd1bb9d0>]"
      ]
     },
     "execution_count": 38,
     "metadata": {},
     "output_type": "execute_result"
    },
    {
     "data": {
      "image/png": "[encoded data removed]",
      "text/plain": [
       "<Figure size 432x288 with 1 Axes>"
      ]
     },
     "metadata": {
      "needs_background": "light"
     },
     "output_type": "display_data"
    }
   ],
   "source": [
    "ABSORB = AbsorbCoeff(RI_array[0], WavelengthToFrequency(Parameters['wavelength']))\n",
    "power_curve = POWER(time_array, I, 1, 1, Parameters['pulse'], s=peak_point*1e-12)\n",
    "plt.plot(time_array/1e-12, power_curve, color=\"red\", linestyle=\"dashed\")"
   ]
  },
  {
   "cell_type": "code",
   "execution_count": 39,
   "id": "7222ac95",
   "metadata": {},
   "outputs": [
    {
     "data": {
      "text/plain": [
       "13799"
      ]
     },
     "execution_count": 39,
     "metadata": {},
     "output_type": "execute_result"
    }
   ],
   "source": [
    "max(Y0['Te'])"
   ]
  },
  {
   "cell_type": "code",
   "execution_count": 40,
   "id": "07a8a2c0",
   "metadata": {},
   "outputs": [
    {
     "data": {
      "text/plain": [
       "Text(0.5, 1.0, 'Two Temperature Model Output')"
      ]
     },
     "execution_count": 40,
     "metadata": {},
     "output_type": "execute_result"
    },
    {
     "data": {
      "image/png": "[encoded data removed]",
      "text/plain": [
       "<Figure size 432x288 with 1 Axes>"
      ]
     },
     "metadata": {
      "needs_background": "light"
     },
     "output_type": "display_data"
    }
   ],
   "source": [
    "plt.plot(time_array/1e-12, Y0['Te'], color=\"blue\", label=\"Electron\")\n",
    "plt.plot(time_array/1e-12, Y0['Tp'], color=\"green\", label=\"Phonon\")\n",
    "plt.plot(time_array/1e-12, (9365*power_curve/200), color=\"red\", linestyle=\"dashed\", label=\"Incident Laser\")\n",
    "plt.xlabel(\"Time (ps)\", fontsize=18)\n",
    "plt.ylabel(\"Temperature (K)\", fontsize=18)\n",
    "plt.legend(loc=2, prop={'size':12})\n",
    "plt.title(\"Two Temperature Model Output\", fontsize=18)\n",
    "#plt.savefig('temperature.svg')"
   ]
  },
  {
   "cell_type": "code",
   "execution_count": null,
   "id": "66cb5dab",
   "metadata": {},
   "outputs": [],
   "source": []
  }
 ],
 "metadata": {
  "kernelspec": {
   "display_name": "Python 3",
   "language": "python",
   "name": "python3"
  },
  "language_info": {
   "codemirror_mode": {
    "name": "ipython",
    "version": 3
   },
   "file_extension": ".py",
   "mimetype": "text/x-python",
   "name": "python",
   "nbconvert_exporter": "python",
   "pygments_lexer": "ipython3",
   "version": "3.9.2"
  }
 },
 "nbformat": 4,
 "nbformat_minor": 5
}
