{
 "cells": [
  {
   "cell_type": "markdown",
   "id": "d5d26c52",
   "metadata": {},
   "source": [
    "# Intensity Dependent Refractive Index Model (All In One)"
   ]
  },
  {
   "cell_type": "markdown",
   "id": "836831ff",
   "metadata": {},
   "source": [
    "This file runs the Extended Drude Model, then runs the Two-Temperature Model automatically.\n",
    "\n",
    "Just input laser parameters, make any changes to material constants if need be, then hit run.\n",
    "\n",
    "The model can take some time to run, don't be impatient."
   ]
  },
  {
   "cell_type": "markdown",
   "id": "34cab194",
   "metadata": {},
   "source": [
    "## Model Settings"
   ]
  },
  {
   "cell_type": "code",
   "execution_count": 1,
   "id": "f50595de",
   "metadata": {},
   "outputs": [],
   "source": [
    "import IDRIM.aio as AIO\n",
    "from numpy import inf\n",
    "from IDRIM.constants import *\n",
    "import matplotlib.pyplot as plt\n",
    "import IDRIM.sample as sam"
   ]
  },
  {
   "cell_type": "markdown",
   "id": "44aeb0b0",
   "metadata": {},
   "source": [
    "### Laser Settings"
   ]
  },
  {
   "cell_type": "code",
   "execution_count": 2,
   "id": "270cb466",
   "metadata": {},
   "outputs": [],
   "source": [
    "Parameters = {\n",
    "    'wavelength': 1417e-9,#Wavelength of laser\n",
    "    'pulse': 104e-15,#Pulse temporal width of laser\n",
    "    'angle': 0,#angle sample is at\n",
    "    'thick': [inf, 407, 10000, inf],#2nd element is sample thickness. 3rd is substrate thickness.\n",
    "    'Res': 100#unused, legacy for looping over intensity\n",
    "}\n",
    "Intensity = 200 #Gw/cm^2. Input Intensity of laser\n",
    "peak_point = 0.0*1e-12 #Used to move the peak of laser along time axis."
   ]
  },
  {
   "cell_type": "markdown",
   "id": "cf5906bd",
   "metadata": {},
   "source": [
    "### Model Selection"
   ]
  },
  {
   "cell_type": "code",
   "execution_count": 3,
   "id": "387d8648",
   "metadata": {},
   "outputs": [],
   "source": [
    "Y = {} #Set the following to 0 or 1. Multiple can be used at once.\n",
    "Y.update({'Y2': 0}) #Electron Heat Capacity modification #use approximation over full calculation\n",
    "Y.update({'Y3': 0}) #Phonon Heat Capacity modification #use constant rather than Debye model\n",
    "Y.update({'Y5': 0}) #Power function modification #don't consider absorption\n",
    "Y.update({'Y7': 0}) #Phonon relaxation modification #\n",
    "Y.update({'Y11': 0}) #Phonon decay term #EXPERIMENTAL! Is not particularly accurate. Change constant in y1.py\n",
    "Y.update({'Y13': 0}) #Temperature Dependent Drude Scattering Coefficient#EXPERIMENTAL! Change constant in y1.py"
   ]
  },
  {
   "cell_type": "markdown",
   "id": "34f925ff",
   "metadata": {},
   "source": [
    "### Constant Adjustment\n",
    "If you need/want to adjust constants, edit them in constants.py"
   ]
  },
  {
   "cell_type": "markdown",
   "id": "2da9845d",
   "metadata": {},
   "source": [
    "### Sample Constants and Approximations"
   ]
  },
  {
   "cell_type": "code",
   "execution_count": 4,
   "id": "5b3cecf0",
   "metadata": {},
   "outputs": [
    {
     "name": "stdout",
     "output_type": "stream",
     "text": [
      "1.7143732442115353e+27\n",
      "2.1673008072667937e-31\n"
     ]
    }
   ],
   "source": [
    "FermiEnergy = 1.6e-19 #1eV.\n",
    "Measured_Plasma_Frequency = 2.6e15 #Measured Plasma Frequency (Plasma Frequency at 300K)\n",
    "\n",
    "EffMassMinimum = sam.CalculateMass(Measured_Plasma_Frequency, FermiEnergy)\n",
    "NumberDensity = sam.CalculateNumberDensity(EffMassMinimum, FermiEnergy)\n",
    "\n",
    "#As of 1/04/22, the constants used are these approximations\n",
    "print(NumberDensity)\n",
    "print(EffMassMinimum)"
   ]
  },
  {
   "cell_type": "markdown",
   "id": "b7e9d00e",
   "metadata": {},
   "source": [
    "### ENZ Frequency Calculation"
   ]
  },
  {
   "cell_type": "code",
   "execution_count": 5,
   "id": "12fad5d9",
   "metadata": {},
   "outputs": [
    {
     "name": "stdout",
     "output_type": "stream",
     "text": [
      "ENZ Frequency Should be: 212.01208465878796 THz\n"
     ]
    }
   ],
   "source": [
    "print('ENZ Frequency Should be:', sam.ENZFreqSolver(Measured_Plasma_Frequency, eps_inf, gamma0)/1e12, 'THz')"
   ]
  },
  {
   "cell_type": "markdown",
   "id": "82e690d6",
   "metadata": {},
   "source": [
    "## IDRIM"
   ]
  },
  {
   "cell_type": "markdown",
   "id": "a79dbf84",
   "metadata": {},
   "source": [
    "Model_Output has the following dictionary keys\n",
    "\n",
    "'T' : Transmission Coefficient against time.\n",
    "\n",
    "'R' : Reflection Coefficient against time.\n",
    "\n",
    "'A' : Absorbance coefficient against time.\n",
    "\n",
    "'Te' : Electron temperature against time\n",
    "\n",
    "'Tp' : Phonon Temperature against time.\n",
    "\n",
    "'Num': Non-Thermal Energy Density against time.\n",
    "\n",
    "'nr' : Real Refractive Index against time.\n",
    "\n",
    "'ni' : Imaginary Refractive Index against time."
   ]
  },
  {
   "cell_type": "code",
   "execution_count": 6,
   "id": "8c4ef867",
   "metadata": {},
   "outputs": [],
   "source": [
    "Model_Output = AIO.AllInOne(Parameters, Intensity, Y, peak_point)"
   ]
  },
  {
   "cell_type": "markdown",
   "id": "d58d5cc0",
   "metadata": {},
   "source": [
    "## Model Output Analysis"
   ]
  },
  {
   "cell_type": "code",
   "execution_count": 12,
   "id": "6981fbdb",
   "metadata": {},
   "outputs": [
    {
     "data": {
      "text/plain": [
       "<matplotlib.legend.Legend at 0x249d5606640>"
      ]
     },
     "execution_count": 12,
     "metadata": {},
     "output_type": "execute_result"
    },
    {
     "data": {
      "image/png": "[encoded data removed]",
      "text/plain": [
       "<Figure size 432x288 with 1 Axes>"
      ]
     },
     "metadata": {
      "needs_background": "light"
     },
     "output_type": "display_data"
    }
   ],
   "source": [
    "plt.plot(time_array/1e-12, Model_Output['Te'], color=\"blue\", label=\"Electrons\")\n",
    "plt.plot(time_array/1e-12, Model_Output['Tp'], color=\"red\", label=\"Phonons\")\n",
    "plt.xlabel(\"Time (ps)\")\n",
    "plt.ylabel(\"Temperature (K)\")\n",
    "plt.legend()"
   ]
  },
  {
   "cell_type": "code",
   "execution_count": 8,
   "id": "2bbacd26",
   "metadata": {},
   "outputs": [
    {
     "data": {
      "text/plain": [
       "Text(0.5, 1.0, 'Transmission vs Time Graph')"
      ]
     },
     "execution_count": 8,
     "metadata": {},
     "output_type": "execute_result"
    },
    {
     "data": {
      "image/png": "[encoded data removed]",
      "text/plain": [
       "<Figure size 432x288 with 1 Axes>"
      ]
     },
     "metadata": {
      "needs_background": "light"
     },
     "output_type": "display_data"
    }
   ],
   "source": [
    "plt.plot(time_array/1e-12, Model_Output['T'], color=\"blue\")\n",
    "plt.xlabel(\"Time (ps)\")\n",
    "plt.ylabel(\"Transmission\")\n",
    "plt.title(\"Transmission vs Time Graph\")"
   ]
  },
  {
   "cell_type": "code",
   "execution_count": 9,
   "id": "f7513c60",
   "metadata": {},
   "outputs": [
    {
     "name": "stdout",
     "output_type": "stream",
     "text": [
      "0.21151069075128576\n"
     ]
    }
   ],
   "source": [
    "print(max(Model_Output['T'])-min(Model_Output['T']))"
   ]
  }
 ],
 "metadata": {
  "kernelspec": {
   "display_name": "Python 3",
   "language": "python",
   "name": "python3"
  },
  "language_info": {
   "codemirror_mode": {
    "name": "ipython",
    "version": 3
   },
   "file_extension": ".py",
   "mimetype": "text/x-python",
   "name": "python",
   "nbconvert_exporter": "python",
   "pygments_lexer": "ipython3",
   "version": "3.9.2"
  }
 },
 "nbformat": 4,
 "nbformat_minor": 5
}
